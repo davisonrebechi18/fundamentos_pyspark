{
  "nbformat": 4,
  "nbformat_minor": 0,
  "metadata": {
    "colab": {
      "name": "Lab_environment.ipynb",
      "provenance": [],
      "collapsed_sections": [],
      "include_colab_link": true
    },
    "kernelspec": {
      "display_name": "Python 3",
      "language": "python",
      "name": "python3"
    },
    "language_info": {
      "codemirror_mode": {
        "name": "ipython",
        "version": 3
      },
      "file_extension": ".py",
      "mimetype": "text/x-python",
      "name": "python",
      "nbconvert_exporter": "python",
      "pygments_lexer": "ipython3",
      "version": "3.6.5"
    }
  },
  "cells": [
    {
      "cell_type": "markdown",
      "metadata": {
        "id": "view-in-github",
        "colab_type": "text"
      },
      "source": [
        "<a href=\"https://colab.research.google.com/github/davisonrebechi18/fundamentos_pyspark/blob/master/Lab_environment.ipynb\" target=\"_parent\"><img src=\"https://colab.research.google.com/assets/colab-badge.svg\" alt=\"Open In Colab\"/></a>"
      ]
    },
    {
      "cell_type": "markdown",
      "metadata": {
        "colab_type": "text",
        "id": "qJoeN3e8_Gzk"
      },
      "source": [
        "# Introduction to Google Colab"
      ]
    },
    {
      "cell_type": "markdown",
      "metadata": {
        "colab_type": "text",
        "id": "_N5-lspH_N8B"
      },
      "source": [
        "## Jupyter notebook basics"
      ]
    },
    {
      "cell_type": "markdown",
      "metadata": {
        "colab_type": "text",
        "id": "Dd6t0uFzuR4X"
      },
      "source": [
        "## Install Spark"
      ]
    },
    {
      "cell_type": "code",
      "metadata": {
        "colab_type": "code",
        "id": "tt7ZS1_wGgjn",
        "colab": {
          "base_uri": "https://localhost:8080/",
          "height": 442
        },
        "outputId": "b0b71a99-f9b9-4267-89a2-9977001063a6"
      },
      "source": [
        "!apt-get update\n",
        "!apt-get install openjdk-8-jdk-headless -qq > /dev/null\n",
        "!wget -q http://archive.apache.org/dist/spark/spark-2.3.1/spark-2.3.1-bin-hadoop2.7.tgz\n",
        "!tar xf spark-2.3.1-bin-hadoop2.7.tgz\n",
        "!pip install -q findspark"
      ],
      "execution_count": null,
      "outputs": [
        {
          "output_type": "stream",
          "text": [
            "\r0% [Working]\r            \rHit:1 http://ppa.launchpad.net/graphics-drivers/ppa/ubuntu bionic InRelease\n",
            "\r0% [Connecting to archive.ubuntu.com (91.189.88.152)] [Connecting to security.u\r                                                                               \rHit:2 http://archive.ubuntu.com/ubuntu bionic InRelease\n",
            "\r                                                                               \rGet:3 http://archive.ubuntu.com/ubuntu bionic-updates InRelease [88.7 kB]\n",
            "\r                                                                               \rGet:4 https://cloud.r-project.org/bin/linux/ubuntu bionic-cran35/ InRelease [3,626 B]\n",
            "\r                                                                               \rGet:5 http://ppa.launchpad.net/marutter/c2d4u3.5/ubuntu bionic InRelease [15.4 kB]\n",
            "\r0% [3 InRelease 33.0 kB/88.7 kB 37%] [Connecting to security.ubuntu.com (91.189\r0% [1 InRelease gpgv 21.3 kB] [3 InRelease 35.9 kB/88.7 kB 40%] [Connecting to \r0% [1 InRelease gpgv 21.3 kB] [Waiting for headers] [Connecting to security.ubu\r                                                                               \rGet:6 http://archive.ubuntu.com/ubuntu bionic-backports InRelease [74.6 kB]\n",
            "Get:7 http://security.ubuntu.com/ubuntu bionic-security InRelease [88.7 kB]\n",
            "Ign:8 https://developer.download.nvidia.com/compute/cuda/repos/ubuntu1804/x86_64  InRelease\n",
            "Ign:9 https://developer.download.nvidia.com/compute/machine-learning/repos/ubuntu1804/x86_64  InRelease\n",
            "Get:10 https://developer.download.nvidia.com/compute/cuda/repos/ubuntu1804/x86_64  Release [697 B]\n",
            "Hit:11 https://developer.download.nvidia.com/compute/machine-learning/repos/ubuntu1804/x86_64  Release\n",
            "Get:12 https://developer.download.nvidia.com/compute/cuda/repos/ubuntu1804/x86_64  Release.gpg [836 B]\n",
            "Get:13 http://ppa.launchpad.net/marutter/c2d4u3.5/ubuntu bionic/main Sources [1,876 kB]\n",
            "Get:14 http://ppa.launchpad.net/marutter/c2d4u3.5/ubuntu bionic/main amd64 Packages [906 kB]\n",
            "Get:15 http://archive.ubuntu.com/ubuntu bionic-updates/main amd64 Packages [1,404 kB]\n",
            "Get:16 http://archive.ubuntu.com/ubuntu bionic-updates/multiverse amd64 Packages [33.9 kB]\n",
            "Get:17 http://archive.ubuntu.com/ubuntu bionic-updates/universe amd64 Packages [1,435 kB]\n",
            "Get:18 http://archive.ubuntu.com/ubuntu bionic-updates/restricted amd64 Packages [146 kB]\n",
            "Ign:20 https://developer.download.nvidia.com/compute/cuda/repos/ubuntu1804/x86_64  Packages\n",
            "Get:20 https://developer.download.nvidia.com/compute/cuda/repos/ubuntu1804/x86_64  Packages [305 kB]\n",
            "Get:21 http://security.ubuntu.com/ubuntu bionic-security/restricted amd64 Packages [126 kB]\n",
            "Get:22 http://security.ubuntu.com/ubuntu bionic-security/main amd64 Packages [1,113 kB]\n",
            "Get:23 http://security.ubuntu.com/ubuntu bionic-security/universe amd64 Packages [905 kB]\n",
            "Fetched 8,522 kB in 3s (2,917 kB/s)\n",
            "Reading package lists... Done\n"
          ],
          "name": "stdout"
        }
      ]
    },
    {
      "cell_type": "code",
      "metadata": {
        "colab_type": "code",
        "id": "sdOOq4twHN1K",
        "colab": {}
      },
      "source": [
        "import os\n",
        "os.environ[\"JAVA_HOME\"] = \"/usr/lib/jvm/java-8-openjdk-amd64\"\n",
        "os.environ[\"SPARK_HOME\"] = \"/content/spark-2.3.1-bin-hadoop2.7\""
      ],
      "execution_count": null,
      "outputs": []
    },
    {
      "cell_type": "code",
      "metadata": {
        "colab_type": "code",
        "id": "3ACYMwhgHTYz",
        "colab": {
          "base_uri": "https://localhost:8080/",
          "height": 35
        },
        "outputId": "1cb059fb-4349-47d4-f0f4-6033f009da1a"
      },
      "source": [
        "!ls"
      ],
      "execution_count": null,
      "outputs": [
        {
          "output_type": "stream",
          "text": [
            "sample_data  spark-2.3.1-bin-hadoop2.7\tspark-2.3.1-bin-hadoop2.7.tgz\n"
          ],
          "name": "stdout"
        }
      ]
    },
    {
      "cell_type": "code",
      "metadata": {
        "colab_type": "code",
        "id": "wjfF7LLgHZe3",
        "colab": {
          "base_uri": "https://localhost:8080/",
          "height": 193
        },
        "outputId": "0410cf6c-59c4-40f2-c297-9fe8cea3796c"
      },
      "source": [
        "import findspark\n",
        "findspark.init()\n",
        "from pyspark import SparkContext\n",
        "\n",
        "sc = SparkContext.getOrCreate()\n",
        "sc"
      ],
      "execution_count": null,
      "outputs": [
        {
          "output_type": "execute_result",
          "data": {
            "text/html": [
              "\n",
              "        <div>\n",
              "            <p><b>SparkContext</b></p>\n",
              "\n",
              "            <p><a href=\"http://50149757fb13:4040\">Spark UI</a></p>\n",
              "\n",
              "            <dl>\n",
              "              <dt>Version</dt>\n",
              "                <dd><code>v2.3.1</code></dd>\n",
              "              <dt>Master</dt>\n",
              "                <dd><code>local[*]</code></dd>\n",
              "              <dt>AppName</dt>\n",
              "                <dd><code>pyspark-shell</code></dd>\n",
              "            </dl>\n",
              "        </div>\n",
              "        "
            ],
            "text/plain": [
              "<SparkContext master=local[*] appName=pyspark-shell>"
            ]
          },
          "metadata": {
            "tags": []
          },
          "execution_count": 4
        }
      ]
    },
    {
      "cell_type": "markdown",
      "metadata": {
        "id": "7_2audLCuPq0",
        "colab_type": "text"
      },
      "source": [
        "Downloading Crimes Data"
      ]
    },
    {
      "cell_type": "code",
      "metadata": {
        "colab_type": "code",
        "id": "QdrFO3yrwptm",
        "colab": {
          "base_uri": "https://localhost:8080/",
          "height": 215
        },
        "outputId": "2e711293-e844-4388-93b4-74ab459ba601"
      },
      "source": [
        "!wget https://data.cityofchicago.org/resource/ijzp-q8t2.csv"
      ],
      "execution_count": null,
      "outputs": [
        {
          "output_type": "stream",
          "text": [
            "--2020-09-16 00:10:44--  https://data.cityofchicago.org/resource/ijzp-q8t2.csv\n",
            "Resolving data.cityofchicago.org (data.cityofchicago.org)... 52.206.68.26, 52.206.140.205, 52.206.140.199\n",
            "Connecting to data.cityofchicago.org (data.cityofchicago.org)|52.206.68.26|:443... connected.\n",
            "HTTP request sent, awaiting response... 200 OK\n",
            "Length: unspecified [text/csv]\n",
            "Saving to: ‘ijzp-q8t2.csv’\n",
            "\n",
            "ijzp-q8t2.csv           [  <=>               ] 279.80K  1.07MB/s    in 0.3s    \n",
            "\n",
            "2020-09-16 00:10:53 (1.07 MB/s) - ‘ijzp-q8t2.csv’ saved [286512]\n",
            "\n"
          ],
          "name": "stdout"
        }
      ]
    },
    {
      "cell_type": "code",
      "metadata": {
        "id": "8so2TtMTQKET",
        "colab_type": "code",
        "colab": {
          "base_uri": "https://localhost:8080/",
          "height": 53
        },
        "outputId": "60783154-9949-43ce-b9c5-a614aa961bba"
      },
      "source": [
        "!ls"
      ],
      "execution_count": null,
      "outputs": [
        {
          "output_type": "stream",
          "text": [
            "crimes.json  ijzp-q8t2.csv  spark-2.3.1-bin-hadoop2.7\n",
            "data\t     sample_data    spark-2.3.1-bin-hadoop2.7.tgz\n"
          ],
          "name": "stdout"
        }
      ]
    },
    {
      "cell_type": "code",
      "metadata": {
        "id": "S93JUz7OQLWx",
        "colab_type": "code",
        "colab": {}
      },
      "source": [
        "!mv ijzp-q8t2.csv reported-crimes.csv"
      ],
      "execution_count": null,
      "outputs": []
    },
    {
      "cell_type": "code",
      "metadata": {
        "id": "4IikCo-0QglV",
        "colab_type": "code",
        "colab": {
          "base_uri": "https://localhost:8080/",
          "height": 235
        },
        "outputId": "093d7532-65a9-49ca-b84d-0b15aa34fcaa"
      },
      "source": [
        "from pyspark.sql.functions import to_timestamp, col, lit\n",
        "rc = spark.read.csv('reported-crimes.csv', header=True).withColumn('Date', to_timestamp(col('Date'),'MM-dd-yyyy hh:mm:ss'))\n",
        "rc.show(5)"
      ],
      "execution_count": null,
      "outputs": [
        {
          "output_type": "stream",
          "text": [
            "+-------------+----------------+----+-------------------+----+-----------------+--------------------+--------------------+------+--------+----+--------+----+--------------+--------+------------+------------+----+--------------------+------------+-------------+--------+\n",
            "|           id|     case_number|Date|              block|iucr|     primary_type|         description|location_description|arrest|domestic|beat|district|ward|community_area|fbi_code|x_coordinate|y_coordinate|year|          updated_on|    latitude|    longitude|location|\n",
            "+-------------+----------------+----+-------------------+----+-----------------+--------------------+--------------------+------+--------+----+--------+----+--------------+--------+------------+------------+----+--------------------+------------+-------------+--------+\n",
            "|     12159089|        JD360148|null|067XX S ASHLAND AVE|143A|WEAPONS VIOLATION|UNLAWFUL POSSESSI...|              STREET|  true|   false|0725|     007|  16|            67|      15|     1166834|     1860021|2020|2020-09-14T15:57:...|41.771459292|-87.663997595|       \"|\n",
            "|         null|                |null|               null|null|             null|                null|                null|  null|    null|null|    null|null|          null|    null|        null|        null|null|                null|        null|         null|    null|\n",
            "|(41.771459292| -87.663997595)\"|null|               null|null|             null|                null|                null|  null|    null|null|    null|null|          null|    null|        null|        null|null|                null|        null|         null|    null|\n",
            "|     12159088|        JD360158|null|  040XX W GRAND AVE|1812|        NARCOTICS|POSSESS - CANNABI...|            SIDEWALK|  true|   false|2534|     025|  26|            23|      18|     1148982|     1909228|2020|2020-09-14T15:57:...|41.906852428|-87.728166753|       \"|\n",
            "|         null|                |null|               null|null|             null|                null|                null|  null|    null|null|    null|null|          null|    null|        null|        null|null|                null|        null|         null|    null|\n",
            "+-------------+----------------+----+-------------------+----+-----------------+--------------------+--------------------+------+--------+----+--------+----+--------------+--------+------------+------------+----+--------------------+------------+-------------+--------+\n",
            "only showing top 5 rows\n",
            "\n"
          ],
          "name": "stdout"
        }
      ]
    },
    {
      "cell_type": "code",
      "metadata": {
        "id": "0HeSj2oPVo1r",
        "colab_type": "code",
        "colab": {
          "base_uri": "https://localhost:8080/",
          "height": 217
        },
        "outputId": "f0fb6010-65ac-4fa2-8adb-57e37179f705"
      },
      "source": [
        "rc.take(10)"
      ],
      "execution_count": null,
      "outputs": [
        {
          "output_type": "execute_result",
          "data": {
            "text/plain": [
              "[Row(id='12159089', case_number='JD360148', Date=None, block='067XX S ASHLAND AVE', iucr='143A', primary_type='WEAPONS VIOLATION', description='UNLAWFUL POSSESSION - HANDGUN', location_description='STREET', arrest='true', domestic='false', beat='0725', district='007', ward='16', community_area='67', fbi_code='15', x_coordinate='1166834', y_coordinate='1860021', year='2020', updated_on='2020-09-14T15:57:00.000', latitude='41.771459292', longitude='-87.663997595', location='\"'),\n",
              " Row(id=None, case_number='  ', Date=None, block=None, iucr=None, primary_type=None, description=None, location_description=None, arrest=None, domestic=None, beat=None, district=None, ward=None, community_area=None, fbi_code=None, x_coordinate=None, y_coordinate=None, year=None, updated_on=None, latitude=None, longitude=None, location=None),\n",
              " Row(id='(41.771459292', case_number=' -87.663997595)\"', Date=None, block=None, iucr=None, primary_type=None, description=None, location_description=None, arrest=None, domestic=None, beat=None, district=None, ward=None, community_area=None, fbi_code=None, x_coordinate=None, y_coordinate=None, year=None, updated_on=None, latitude=None, longitude=None, location=None),\n",
              " Row(id='12159088', case_number='JD360158', Date=None, block='040XX W GRAND AVE', iucr='1812', primary_type='NARCOTICS', description='POSSESS - CANNABIS MORE THAN 30 GRAMS', location_description='SIDEWALK', arrest='true', domestic='false', beat='2534', district='025', ward='26', community_area='23', fbi_code='18', x_coordinate='1148982', y_coordinate='1909228', year='2020', updated_on='2020-09-14T15:57:00.000', latitude='41.906852428', longitude='-87.728166753', location='\"'),\n",
              " Row(id=None, case_number='  ', Date=None, block=None, iucr=None, primary_type=None, description=None, location_description=None, arrest=None, domestic=None, beat=None, district=None, ward=None, community_area=None, fbi_code=None, x_coordinate=None, y_coordinate=None, year=None, updated_on=None, latitude=None, longitude=None, location=None),\n",
              " Row(id='(41.906852428', case_number=' -87.728166753)\"', Date=None, block=None, iucr=None, primary_type=None, description=None, location_description=None, arrest=None, domestic=None, beat=None, district=None, ward=None, community_area=None, fbi_code=None, x_coordinate=None, y_coordinate=None, year=None, updated_on=None, latitude=None, longitude=None, location=None),\n",
              " Row(id='12159184', case_number='JD360126', Date=None, block='063XX S ROCKWELL ST', iucr='0312', primary_type='ROBBERY', description='ARMED - KNIFE / CUTTING INSTRUMENT', location_description='STREET', arrest='false', domestic='false', beat='0825', district='008', ward='16', community_area='66', fbi_code='03', x_coordinate='1160126', y_coordinate='1862620', year='2020', updated_on='2020-09-14T15:57:00.000', latitude='41.778731944', longitude='-87.688515527', location='\"'),\n",
              " Row(id=None, case_number='  ', Date=None, block=None, iucr=None, primary_type=None, description=None, location_description=None, arrest=None, domestic=None, beat=None, district=None, ward=None, community_area=None, fbi_code=None, x_coordinate=None, y_coordinate=None, year=None, updated_on=None, latitude=None, longitude=None, location=None),\n",
              " Row(id='(41.778731944', case_number=' -87.688515527)\"', Date=None, block=None, iucr=None, primary_type=None, description=None, location_description=None, arrest=None, domestic=None, beat=None, district=None, ward=None, community_area=None, fbi_code=None, x_coordinate=None, y_coordinate=None, year=None, updated_on=None, latitude=None, longitude=None, location=None),\n",
              " Row(id='12160396', case_number='JD360106', Date=None, block='067XX N OXFORD AVE', iucr='0486', primary_type='BATTERY', description='DOMESTIC BATTERY SIMPLE', location_description='RESIDENCE', arrest='false', domestic='true', beat='1611', district='016', ward='41', community_area='9', fbi_code='08B', x_coordinate='1125223', y_coordinate='1943992', year='2020', updated_on='2020-09-14T15:57:00.000', latitude='42.002675723', longitude='-87.814672219', location='\"')]"
            ]
          },
          "metadata": {
            "tags": []
          },
          "execution_count": 29
        }
      ]
    },
    {
      "cell_type": "markdown",
      "metadata": {
        "id": "gIOQoocJX8z6",
        "colab_type": "text"
      },
      "source": [
        "Schema"
      ]
    },
    {
      "cell_type": "code",
      "metadata": {
        "id": "TLGjhi5XVroE",
        "colab_type": "code",
        "colab": {
          "base_uri": "https://localhost:8080/",
          "height": 449
        },
        "outputId": "834865e6-11c5-49cb-8a80-419dd8871e1a"
      },
      "source": [
        "rc.printSchema()"
      ],
      "execution_count": null,
      "outputs": [
        {
          "output_type": "stream",
          "text": [
            "root\n",
            " |-- id: string (nullable = true)\n",
            " |-- case_number: string (nullable = true)\n",
            " |-- Date: timestamp (nullable = true)\n",
            " |-- block: string (nullable = true)\n",
            " |-- iucr: string (nullable = true)\n",
            " |-- primary_type: string (nullable = true)\n",
            " |-- description: string (nullable = true)\n",
            " |-- location_description: string (nullable = true)\n",
            " |-- arrest: string (nullable = true)\n",
            " |-- domestic: string (nullable = true)\n",
            " |-- beat: string (nullable = true)\n",
            " |-- district: string (nullable = true)\n",
            " |-- ward: string (nullable = true)\n",
            " |-- community_area: string (nullable = true)\n",
            " |-- fbi_code: string (nullable = true)\n",
            " |-- x_coordinate: string (nullable = true)\n",
            " |-- y_coordinate: string (nullable = true)\n",
            " |-- year: string (nullable = true)\n",
            " |-- updated_on: string (nullable = true)\n",
            " |-- latitude: string (nullable = true)\n",
            " |-- longitude: string (nullable = true)\n",
            " |-- location: string (nullable = true)\n",
            "\n"
          ],
          "name": "stdout"
        }
      ]
    },
    {
      "cell_type": "code",
      "metadata": {
        "id": "4x7433nAX12f",
        "colab_type": "code",
        "colab": {}
      },
      "source": [
        "from pyspark.sql.types import StructField, StructType, StringType, BooleanType, TimestampType, DoubleType, IntegerType"
      ],
      "execution_count": null,
      "outputs": []
    },
    {
      "cell_type": "code",
      "metadata": {
        "id": "9W1DHp90Ys1d",
        "colab_type": "code",
        "colab": {
          "base_uri": "https://localhost:8080/",
          "height": 413
        },
        "outputId": "a180efed-7af1-4374-c6a3-5890b100649b"
      },
      "source": [
        "rc.columns"
      ],
      "execution_count": null,
      "outputs": [
        {
          "output_type": "execute_result",
          "data": {
            "text/plain": [
              "['id',\n",
              " 'case_number',\n",
              " 'Date',\n",
              " 'block',\n",
              " 'iucr',\n",
              " 'primary_type',\n",
              " 'description',\n",
              " 'location_description',\n",
              " 'arrest',\n",
              " 'domestic',\n",
              " 'beat',\n",
              " 'district',\n",
              " 'ward',\n",
              " 'community_area',\n",
              " 'fbi_code',\n",
              " 'x_coordinate',\n",
              " 'y_coordinate',\n",
              " 'year',\n",
              " 'updated_on',\n",
              " 'latitude',\n",
              " 'longitude',\n",
              " 'location']"
            ]
          },
          "metadata": {
            "tags": []
          },
          "execution_count": 33
        }
      ]
    },
    {
      "cell_type": "code",
      "metadata": {
        "id": "o_d_SiyIY1XK",
        "colab_type": "code",
        "colab": {}
      },
      "source": [
        "schema = StructType([\n",
        "            StructField('id', StringType, True),\n",
        "  StructField('case_number', StringType, True),\n",
        "  StructField('Date', TimestampType, True)\n",
        "  StructField('block',\n",
        "  StructField('iucr',\n",
        "  StructField('primary_type',\n",
        "  StructField('description',\n",
        "  StructField('location_description',\n",
        "  StructField('arrest',\n",
        "  StructField('domestic',\n",
        "  StructField('beat',\n",
        "  StructField('district',\n",
        "  StructField('ward',\n",
        "  StructField('community_area',\n",
        "  StructField('fbi_code',\n",
        "  StructField('x_coordinate',\n",
        "  StructField('y_coordinate',\n",
        "  StructField('year',\n",
        "  StructField('updated_on',\n",
        "  StructField('latitude',\n",
        "  StructField('longitude',\n",
        "  StructField('location'\n",
        "            )\n",
        "])"
      ],
      "execution_count": null,
      "outputs": []
    },
    {
      "cell_type": "code",
      "metadata": {
        "id": "hTxXrs4cZrPj",
        "colab_type": "code",
        "colab": {}
      },
      "source": [
        "labels = [\n",
        "          'id',\n",
        " 'case_number',\n",
        " 'Date',\n",
        " 'block',\n",
        " 'iucr',\n",
        " 'primary_type',\n",
        " 'description',\n",
        " 'location_description',\n",
        " 'arrest',\n",
        " 'domestic',\n",
        " 'beat',\n",
        " 'district',\n",
        " 'ward',\n",
        " 'community_area',\n",
        " 'fbi_code',\n",
        " 'x_coordinate',\n",
        " 'y_coordinate',\n",
        " 'year',\n",
        " 'updated_on',\n",
        " 'latitude',\n",
        " 'longitude',\n",
        " 'location'\n",
        "]"
      ],
      "execution_count": null,
      "outputs": []
    },
    {
      "cell_type": "code",
      "metadata": {
        "id": "JkQz7t0bYuds",
        "colab_type": "code",
        "colab": {}
      },
      "source": [
        ""
      ],
      "execution_count": null,
      "outputs": []
    }
  ]
}