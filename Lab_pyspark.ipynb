{
  "nbformat": 4,
  "nbformat_minor": 0,
  "metadata": {
    "colab": {
      "name": "Lab_pyspark.ipynb",
      "provenance": [],
      "collapsed_sections": [],
      "toc_visible": true,
      "include_colab_link": true
    },
    "kernelspec": {
      "display_name": "Python 3",
      "language": "python",
      "name": "python3"
    },
    "language_info": {
      "codemirror_mode": {
        "name": "ipython",
        "version": 3
      },
      "file_extension": ".py",
      "mimetype": "text/x-python",
      "name": "python",
      "nbconvert_exporter": "python",
      "pygments_lexer": "ipython3",
      "version": "3.6.5"
    }
  },
  "cells": [
    {
      "cell_type": "markdown",
      "metadata": {
        "id": "view-in-github",
        "colab_type": "text"
      },
      "source": [
        "<a href=\"https://colab.research.google.com/github/davisonrebechi18/fundamentos_pyspark/blob/master/Lab_pyspark.ipynb\" target=\"_parent\"><img src=\"https://colab.research.google.com/assets/colab-badge.svg\" alt=\"Open In Colab\"/></a>"
      ]
    },
    {
      "cell_type": "markdown",
      "metadata": {
        "id": "qJoeN3e8_Gzk"
      },
      "source": [
        "# Pyspark Fundamentals"
      ]
    },
    {
      "cell_type": "markdown",
      "metadata": {
        "id": "_N5-lspH_N8B"
      },
      "source": [
        "## Data processing"
      ]
    },
    {
      "cell_type": "markdown",
      "metadata": {
        "id": "Dd6t0uFzuR4X"
      },
      "source": [
        "## Install Spark"
      ]
    },
    {
      "cell_type": "code",
      "metadata": {
        "id": "tt7ZS1_wGgjn",
        "outputId": "86bb4b2a-645c-4ebb-95d1-7532a070f6e6",
        "colab": {
          "base_uri": "https://localhost:8080/",
          "height": 527
        }
      },
      "source": [
        "!apt-get update\n",
        "!apt-get install openjdk-8-jdk-headless -qq > /dev/null\n",
        "!wget -q http://archive.apache.org/dist/spark/spark-2.3.1/spark-2.3.1-bin-hadoop2.7.tgz\n",
        "!tar xf spark-2.3.1-bin-hadoop2.7.tgz\n",
        "!pip install -q findspark"
      ],
      "execution_count": 1,
      "outputs": [
        {
          "output_type": "stream",
          "text": [
            "\r0% [Working]\r            \rIgn:1 https://developer.download.nvidia.com/compute/cuda/repos/ubuntu1804/x86_64  InRelease\n",
            "Get:2 https://cloud.r-project.org/bin/linux/ubuntu bionic-cran40/ InRelease [3,626 B]\n",
            "Hit:3 http://archive.ubuntu.com/ubuntu bionic InRelease\n",
            "Ign:4 https://developer.download.nvidia.com/compute/machine-learning/repos/ubuntu1804/x86_64  InRelease\n",
            "Get:5 http://ppa.launchpad.net/c2d4u.team/c2d4u4.0+/ubuntu bionic InRelease [15.9 kB]\n",
            "Get:6 https://developer.download.nvidia.com/compute/cuda/repos/ubuntu1804/x86_64  Release [697 B]\n",
            "Get:7 http://security.ubuntu.com/ubuntu bionic-security InRelease [88.7 kB]\n",
            "Hit:8 https://developer.download.nvidia.com/compute/machine-learning/repos/ubuntu1804/x86_64  Release\n",
            "Get:9 https://developer.download.nvidia.com/compute/cuda/repos/ubuntu1804/x86_64  Release.gpg [836 B]\n",
            "Get:10 http://archive.ubuntu.com/ubuntu bionic-updates InRelease [88.7 kB]\n",
            "Get:11 http://ppa.launchpad.net/graphics-drivers/ppa/ubuntu bionic InRelease [21.3 kB]\n",
            "Get:12 https://cloud.r-project.org/bin/linux/ubuntu bionic-cran40/ Packages [36.0 kB]\n",
            "Get:13 http://archive.ubuntu.com/ubuntu bionic-backports InRelease [74.6 kB]\n",
            "Ign:15 https://developer.download.nvidia.com/compute/cuda/repos/ubuntu1804/x86_64  Packages\n",
            "Get:15 https://developer.download.nvidia.com/compute/cuda/repos/ubuntu1804/x86_64  Packages [334 kB]\n",
            "Get:16 http://ppa.launchpad.net/c2d4u.team/c2d4u4.0+/ubuntu bionic/main Sources [1,673 kB]\n",
            "Get:17 http://security.ubuntu.com/ubuntu bionic-security/restricted amd64 Packages [193 kB]\n",
            "Get:18 http://archive.ubuntu.com/ubuntu bionic-updates/universe amd64 Packages [2,100 kB]\n",
            "Get:19 http://security.ubuntu.com/ubuntu bionic-security/main amd64 Packages [1,693 kB]\n",
            "Get:20 http://security.ubuntu.com/ubuntu bionic-security/universe amd64 Packages [1,338 kB]\n",
            "Get:21 http://security.ubuntu.com/ubuntu bionic-security/multiverse amd64 Packages [14.6 kB]\n",
            "Get:22 http://archive.ubuntu.com/ubuntu bionic-updates/multiverse amd64 Packages [44.6 kB]\n",
            "Get:23 http://archive.ubuntu.com/ubuntu bionic-updates/main amd64 Packages [2,110 kB]\n",
            "Get:24 http://ppa.launchpad.net/c2d4u.team/c2d4u4.0+/ubuntu bionic/main amd64 Packages [856 kB]\n",
            "Get:25 http://archive.ubuntu.com/ubuntu bionic-updates/restricted amd64 Packages [220 kB]\n",
            "Get:26 http://archive.ubuntu.com/ubuntu bionic-backports/main amd64 Packages [11.3 kB]\n",
            "Get:27 http://archive.ubuntu.com/ubuntu bionic-backports/universe amd64 Packages [11.4 kB]\n",
            "Get:28 http://ppa.launchpad.net/graphics-drivers/ppa/ubuntu bionic/main amd64 Packages [48.9 kB]\n",
            "Fetched 11.0 MB in 3s (3,517 kB/s)\n",
            "Reading package lists... Done\n"
          ],
          "name": "stdout"
        }
      ]
    },
    {
      "cell_type": "code",
      "metadata": {
        "id": "sdOOq4twHN1K"
      },
      "source": [
        "import os\n",
        "os.environ[\"JAVA_HOME\"] = \"/usr/lib/jvm/java-8-openjdk-amd64\"\n",
        "os.environ[\"SPARK_HOME\"] = \"/content/spark-2.3.1-bin-hadoop2.7\""
      ],
      "execution_count": 2,
      "outputs": []
    },
    {
      "cell_type": "code",
      "metadata": {
        "id": "3ACYMwhgHTYz",
        "outputId": "6aa9d01e-3e96-456e-a2e9-276e30dc83f7",
        "colab": {
          "base_uri": "https://localhost:8080/",
          "height": 34
        }
      },
      "source": [
        "!ls"
      ],
      "execution_count": 3,
      "outputs": [
        {
          "output_type": "stream",
          "text": [
            "sample_data  spark-2.3.1-bin-hadoop2.7\tspark-2.3.1-bin-hadoop2.7.tgz\n"
          ],
          "name": "stdout"
        }
      ]
    },
    {
      "cell_type": "code",
      "metadata": {
        "id": "wjfF7LLgHZe3",
        "outputId": "4e6998c8-39e4-4ba3-f5ae-0c92611da1c3",
        "colab": {
          "base_uri": "https://localhost:8080/",
          "height": 193
        }
      },
      "source": [
        "import findspark\n",
        "findspark.init()\n",
        "from pyspark import SparkContext\n",
        "\n",
        "sc = SparkContext.getOrCreate()\n",
        "sc"
      ],
      "execution_count": 4,
      "outputs": [
        {
          "output_type": "execute_result",
          "data": {
            "text/html": [
              "\n",
              "        <div>\n",
              "            <p><b>SparkContext</b></p>\n",
              "\n",
              "            <p><a href=\"http://2c57a51f255b:4040\">Spark UI</a></p>\n",
              "\n",
              "            <dl>\n",
              "              <dt>Version</dt>\n",
              "                <dd><code>v2.3.1</code></dd>\n",
              "              <dt>Master</dt>\n",
              "                <dd><code>local[*]</code></dd>\n",
              "              <dt>AppName</dt>\n",
              "                <dd><code>pyspark-shell</code></dd>\n",
              "            </dl>\n",
              "        </div>\n",
              "        "
            ],
            "text/plain": [
              "<SparkContext master=local[*] appName=pyspark-shell>"
            ]
          },
          "metadata": {
            "tags": []
          },
          "execution_count": 4
        }
      ]
    },
    {
      "cell_type": "code",
      "metadata": {
        "id": "Gs7fzvxcHfvw"
      },
      "source": [
        "# Creating a SparkSession Object\n",
        "import pyspark\n",
        "from pyspark.sql import SparkSession\n",
        "spark = SparkSession.builder.appName('data_processing').getOrCreate() \n",
        "import pyspark.sql.functions as F\n",
        "from pyspark.sql.types import *"
      ],
      "execution_count": 5,
      "outputs": []
    },
    {
      "cell_type": "code",
      "metadata": {
        "id": "tXcCYXyYiAMg"
      },
      "source": [
        "# Creating a DataFrame\n",
        "schema=StructType().add(\"user_id\",\"string\").add(\"country\",\"string\").add(\"browser\",\"string\").add(\"OS\",\"string\").add(\"age\",\"integer\")"
      ],
      "execution_count": null,
      "outputs": []
    },
    {
      "cell_type": "code",
      "metadata": {
        "id": "SBaVijv4ik8s",
        "outputId": "f04da748-0de9-4f89-ebc8-0b744d659558",
        "colab": {
          "base_uri": "https://localhost:8080/",
          "height": 136
        }
      },
      "source": [
        "df = spark.createDataFrame([(\"A203\",\"India\",\"Chrome\",\"WIN\",33),(\"A201\",\"China\",\"Safari\",\"MacOS\",35),(\"A205\",\"UK\",\"Mozilla\",\"Linux\",25)],schema=schema)\n",
        "df.printSchema()"
      ],
      "execution_count": null,
      "outputs": [
        {
          "output_type": "stream",
          "text": [
            "root\n",
            " |-- user_id: string (nullable = true)\n",
            " |-- country: string (nullable = true)\n",
            " |-- browser: string (nullable = true)\n",
            " |-- OS: string (nullable = true)\n",
            " |-- age: integer (nullable = true)\n",
            "\n"
          ],
          "name": "stdout"
        }
      ]
    },
    {
      "cell_type": "code",
      "metadata": {
        "id": "esN_G3RAkJSh",
        "outputId": "6b7dcb47-c1c6-43e3-e9b1-a1edc9fc469c",
        "colab": {
          "base_uri": "https://localhost:8080/",
          "height": 153
        }
      },
      "source": [
        "df.show()"
      ],
      "execution_count": null,
      "outputs": [
        {
          "output_type": "stream",
          "text": [
            "+-------+-------+-------+-----+---+\n",
            "|user_id|country|browser|   OS|age|\n",
            "+-------+-------+-------+-----+---+\n",
            "|   A203|  India| Chrome|  WIN| 33|\n",
            "|   A201|  China| Safari|MacOS| 35|\n",
            "|   A205|     UK|Mozilla|Linux| 25|\n",
            "+-------+-------+-------+-----+---+\n",
            "\n"
          ],
          "name": "stdout"
        }
      ]
    },
    {
      "cell_type": "code",
      "metadata": {
        "id": "LfF45VnYka8d",
        "outputId": "c52b6a9c-2a01-4f6c-95f5-e330414a8210",
        "colab": {
          "base_uri": "https://localhost:8080/",
          "height": 153
        }
      },
      "source": [
        "# Null Values\n",
        "df_na = spark.createDataFrame([(\"A203\",None,\"Chrome\",\"WIN\",33),(\"A201\",\"China\",None,\"MacOS\",35),(\"A205\",\"UK\",\"Mozilla\",\"Linux\",25)],schema=schema)\n",
        "df_na.show()"
      ],
      "execution_count": null,
      "outputs": [
        {
          "output_type": "stream",
          "text": [
            "+-------+-------+-------+-----+---+\n",
            "|user_id|country|browser|   OS|age|\n",
            "+-------+-------+-------+-----+---+\n",
            "|   A203|   null| Chrome|  WIN| 33|\n",
            "|   A201|  China|   null|MacOS| 35|\n",
            "|   A205|     UK|Mozilla|Linux| 25|\n",
            "+-------+-------+-------+-----+---+\n",
            "\n"
          ],
          "name": "stdout"
        }
      ]
    },
    {
      "cell_type": "code",
      "metadata": {
        "id": "ywwQcWYck9GO",
        "outputId": "59acf501-325c-4d92-a8d4-b8fa005f88a5",
        "colab": {
          "base_uri": "https://localhost:8080/",
          "height": 153
        }
      },
      "source": [
        "# Fill null with zero\n",
        "df_na.fillna('0').show()"
      ],
      "execution_count": null,
      "outputs": [
        {
          "output_type": "stream",
          "text": [
            "+-------+-------+-------+-----+---+\n",
            "|user_id|country|browser|   OS|age|\n",
            "+-------+-------+-------+-----+---+\n",
            "|   A203|      0| Chrome|  WIN| 33|\n",
            "|   A201|  China|      0|MacOS| 35|\n",
            "|   A205|     UK|Mozilla|Linux| 25|\n",
            "+-------+-------+-------+-----+---+\n",
            "\n"
          ],
          "name": "stdout"
        }
      ]
    },
    {
      "cell_type": "code",
      "metadata": {
        "id": "fGRfqNPUlHFM",
        "outputId": "f29e1204-92e4-4987-f974-28eb4a491c75",
        "colab": {
          "base_uri": "https://localhost:8080/",
          "height": 153
        }
      },
      "source": [
        "# Fill Null for other words\n",
        "df_na.fillna({'country':'USA', 'browser':'Safari'}).show()"
      ],
      "execution_count": null,
      "outputs": [
        {
          "output_type": "stream",
          "text": [
            "+-------+-------+-------+-----+---+\n",
            "|user_id|country|browser|   OS|age|\n",
            "+-------+-------+-------+-----+---+\n",
            "|   A203|    USA| Chrome|  WIN| 33|\n",
            "|   A201|  China| Safari|MacOS| 35|\n",
            "|   A205|     UK|Mozilla|Linux| 25|\n",
            "+-------+-------+-------+-----+---+\n",
            "\n"
          ],
          "name": "stdout"
        }
      ]
    },
    {
      "cell_type": "code",
      "metadata": {
        "id": "QCzaACkcligz",
        "outputId": "e86b3803-af47-45aa-90b2-11d31cb19baa",
        "colab": {
          "base_uri": "https://localhost:8080/",
          "height": 119
        }
      },
      "source": [
        "# Drop na values\n",
        "df_na.na.drop().show()"
      ],
      "execution_count": null,
      "outputs": [
        {
          "output_type": "stream",
          "text": [
            "+-------+-------+-------+-----+---+\n",
            "|user_id|country|browser|   OS|age|\n",
            "+-------+-------+-------+-----+---+\n",
            "|   A205|     UK|Mozilla|Linux| 25|\n",
            "+-------+-------+-------+-----+---+\n",
            "\n"
          ],
          "name": "stdout"
        }
      ]
    },
    {
      "cell_type": "code",
      "metadata": {
        "id": "JkQz7t0bYuds",
        "outputId": "034d097d-9059-4c8a-b224-614f55455917",
        "colab": {
          "base_uri": "https://localhost:8080/",
          "height": 136
        }
      },
      "source": [
        "# Using subset function with na.drop\n",
        "df_na.na.drop(subset='country').show()"
      ],
      "execution_count": null,
      "outputs": [
        {
          "output_type": "stream",
          "text": [
            "+-------+-------+-------+-----+---+\n",
            "|user_id|country|browser|   OS|age|\n",
            "+-------+-------+-------+-----+---+\n",
            "|   A201|  China|   null|MacOS| 35|\n",
            "|   A205|     UK|Mozilla|Linux| 25|\n",
            "+-------+-------+-------+-----+---+\n",
            "\n"
          ],
          "name": "stdout"
        }
      ]
    },
    {
      "cell_type": "code",
      "metadata": {
        "id": "M5Ubnsa6nvlj",
        "outputId": "bf829354-8c83-4a08-df3f-b2f801750db8",
        "colab": {
          "base_uri": "https://localhost:8080/",
          "height": 153
        }
      },
      "source": [
        "# Replacing \n",
        "df_na.replace(\"Chrome\",\"Google Chrome\").show()"
      ],
      "execution_count": null,
      "outputs": [
        {
          "output_type": "stream",
          "text": [
            "+-------+-------+-------------+-----+---+\n",
            "|user_id|country|      browser|   OS|age|\n",
            "+-------+-------+-------------+-----+---+\n",
            "|   A203|   null|Google Chrome|  WIN| 33|\n",
            "|   A201|  China|         null|MacOS| 35|\n",
            "|   A205|     UK|      Mozilla|Linux| 25|\n",
            "+-------+-------+-------------+-----+---+\n",
            "\n"
          ],
          "name": "stdout"
        }
      ]
    },
    {
      "cell_type": "code",
      "metadata": {
        "id": "w7vbxgUioTZY",
        "outputId": "c570429d-f47c-42b4-e979-2dc4440a148f",
        "colab": {
          "base_uri": "https://localhost:8080/",
          "height": 153
        }
      },
      "source": [
        "# drop functionality of PySpark\n",
        "df_na.drop('user_id').show()"
      ],
      "execution_count": null,
      "outputs": [
        {
          "output_type": "stream",
          "text": [
            "+-------+-------+-----+---+\n",
            "|country|browser|   OS|age|\n",
            "+-------+-------+-----+---+\n",
            "|   null| Chrome|  WIN| 33|\n",
            "|  China|   null|MacOS| 35|\n",
            "|     UK|Mozilla|Linux| 25|\n",
            "+-------+-------+-----+---+\n",
            "\n"
          ],
          "name": "stdout"
        }
      ]
    },
    {
      "cell_type": "code",
      "metadata": {
        "id": "WFTR57yxolzx",
        "outputId": "ad24706f-47d1-434c-b288-af31571b3b62",
        "colab": {
          "base_uri": "https://localhost:8080/",
          "height": 34
        }
      },
      "source": [
        "# load dataset\n",
        "df=spark.read.csv(\"customer_data.csv\", header=True, inferSchema=True)\n",
        "df.count()"
      ],
      "execution_count": 6,
      "outputs": [
        {
          "output_type": "execute_result",
          "data": {
            "text/plain": [
              "2000"
            ]
          },
          "metadata": {
            "tags": []
          },
          "execution_count": 6
        }
      ]
    },
    {
      "cell_type": "code",
      "metadata": {
        "id": "znYWbFXLwlQK",
        "outputId": "27f33e74-d0e6-438f-afb5-8282e04cce52",
        "colab": {
          "base_uri": "https://localhost:8080/",
          "height": 34
        }
      },
      "source": [
        "# columns size\n",
        "len(df.columns)"
      ],
      "execution_count": 8,
      "outputs": [
        {
          "output_type": "execute_result",
          "data": {
            "text/plain": [
              "7"
            ]
          },
          "metadata": {
            "tags": []
          },
          "execution_count": 8
        }
      ]
    },
    {
      "cell_type": "code",
      "metadata": {
        "id": "KS4Zpm1TwxL8",
        "outputId": "e890c328-01f3-4d3f-aac1-af2cf29e0b95",
        "colab": {
          "base_uri": "https://localhost:8080/",
          "height": 170
        }
      },
      "source": [
        "df.printSchema()"
      ],
      "execution_count": 9,
      "outputs": [
        {
          "output_type": "stream",
          "text": [
            "root\n",
            " |-- Customer_subtype: string (nullable = true)\n",
            " |-- Number_of_houses: integer (nullable = true)\n",
            " |-- Avg_size_household: integer (nullable = true)\n",
            " |-- Avg_age: string (nullable = true)\n",
            " |-- Customer_main_type: string (nullable = true)\n",
            " |-- Avg_Salary: integer (nullable = true)\n",
            " |-- label: integer (nullable = true)\n",
            "\n"
          ],
          "name": "stdout"
        }
      ]
    },
    {
      "cell_type": "code",
      "metadata": {
        "id": "EnkUJ7N5wz-1",
        "outputId": "3bf0cfa4-1002-4410-b8a0-7ab2533b31b6",
        "colab": {
          "base_uri": "https://localhost:8080/",
          "height": 170
        }
      },
      "source": [
        "df.show(3)"
      ],
      "execution_count": 11,
      "outputs": [
        {
          "output_type": "stream",
          "text": [
            "+--------------------+----------------+------------------+-----------+--------------------+----------+-----+\n",
            "|    Customer_subtype|Number_of_houses|Avg_size_household|    Avg_age|  Customer_main_type|Avg_Salary|label|\n",
            "+--------------------+----------------+------------------+-----------+--------------------+----------+-----+\n",
            "|Lower class large...|               1|                 3|30-40 years|Family with grown...|     44905|    0|\n",
            "|Mixed small town ...|               1|                 2|30-40 years|Family with grown...|     37575|    0|\n",
            "|Mixed small town ...|               1|                 2|30-40 years|Family with grown...|     27915|    0|\n",
            "+--------------------+----------------+------------------+-----------+--------------------+----------+-----+\n",
            "only showing top 3 rows\n",
            "\n"
          ],
          "name": "stdout"
        }
      ]
    },
    {
      "cell_type": "code",
      "metadata": {
        "id": "0mTfc5Fxw7sE",
        "outputId": "ba25b687-ece3-4485-ee1b-3e0803d930e0",
        "colab": {
          "base_uri": "https://localhost:8080/",
          "height": 258
        }
      },
      "source": [
        "# Statistical measures of dataset\n",
        "df.summary().show()"
      ],
      "execution_count": 13,
      "outputs": [
        {
          "output_type": "stream",
          "text": [
            "+-------+--------------------+------------------+------------------+-----------+--------------------+-----------------+------------------+\n",
            "|summary|    Customer_subtype|  Number_of_houses|Avg_size_household|    Avg_age|  Customer_main_type|       Avg_Salary|             label|\n",
            "+-------+--------------------+------------------+------------------+-----------+--------------------+-----------------+------------------+\n",
            "|  count|                2000|              2000|              2000|       2000|                2000|             2000|              2000|\n",
            "|   mean|                null|            1.1075|            2.6895|       null|                null|     1616908.0835|            0.0605|\n",
            "| stddev|                null|0.3873225521186316|0.7914562220841646|       null|                null|6822647.757312146|0.2384705099001677|\n",
            "|    min|Affluent senior a...|                 1|                 1|20-30 years|      Average Family|             1361|                 0|\n",
            "|    25%|                null|                 1|                 2|       null|                null|            20315|                 0|\n",
            "|    50%|                null|                 1|                 3|       null|                null|            31421|                 0|\n",
            "|    75%|                null|                 1|                 3|       null|                null|            42949|                 0|\n",
            "|    max| Young, low educated|                10|                 5|70-80 years|Successful hedonists|         48919896|                 1|\n",
            "+-------+--------------------+------------------+------------------+-----------+--------------------+-----------------+------------------+\n",
            "\n"
          ],
          "name": "stdout"
        }
      ]
    },
    {
      "cell_type": "code",
      "metadata": {
        "id": "raTyPn2UxxNg",
        "outputId": "764dbf91-02e7-418d-9822-5c993649939f",
        "colab": {
          "base_uri": "https://localhost:8080/",
          "height": 459
        }
      },
      "source": [
        "# select any column from dataframe\n",
        "df.select(['Customer_subtype','Avg_Salary']).show()"
      ],
      "execution_count": 14,
      "outputs": [
        {
          "output_type": "stream",
          "text": [
            "+--------------------+----------+\n",
            "|    Customer_subtype|Avg_Salary|\n",
            "+--------------------+----------+\n",
            "|Lower class large...|     44905|\n",
            "|Mixed small town ...|     37575|\n",
            "|Mixed small town ...|     27915|\n",
            "|Modern, complete ...|     19504|\n",
            "|  Large family farms|     34943|\n",
            "|    Young and rising|     13064|\n",
            "|Large religious f...|     29090|\n",
            "|Lower class large...|      6895|\n",
            "|Lower class large...|     35497|\n",
            "|     Family starters|     30800|\n",
            "|       Stable family|     39157|\n",
            "|Modern, complete ...|     40839|\n",
            "|Lower class large...|     30008|\n",
            "|        Mixed rurals|     37209|\n",
            "|    Young and rising|     45361|\n",
            "|Lower class large...|     45650|\n",
            "|Traditional families|     18982|\n",
            "|Mixed apartment d...|     30093|\n",
            "|Young all america...|     27097|\n",
            "|Low income catholics|     23511|\n",
            "+--------------------+----------+\n",
            "only showing top 20 rows\n",
            "\n"
          ],
          "name": "stdout"
        }
      ]
    },
    {
      "cell_type": "code",
      "metadata": {
        "id": "9BC7x9zQyJ0Y",
        "outputId": "b6273fc8-e68c-4a1a-8bd3-0e87883d41f5",
        "colab": {
          "base_uri": "https://localhost:8080/",
          "height": 34
        }
      },
      "source": [
        "# filter with count function\n",
        "df.filter(df['Avg_Salary']> 1000000).count()"
      ],
      "execution_count": 15,
      "outputs": [
        {
          "output_type": "execute_result",
          "data": {
            "text/plain": [
              "128"
            ]
          },
          "metadata": {
            "tags": []
          },
          "execution_count": 15
        }
      ]
    },
    {
      "cell_type": "code",
      "metadata": {
        "id": "bLIoqXL0yhK3",
        "outputId": "90f11721-7be4-4f23-84cb-f7ee28e27fb4",
        "colab": {
          "base_uri": "https://localhost:8080/",
          "height": 459
        }
      },
      "source": [
        "# filter avg_salary > 1000000\n",
        "df.filter(df['Avg_Salary'] > 1000000).show()"
      ],
      "execution_count": 16,
      "outputs": [
        {
          "output_type": "stream",
          "text": [
            "+--------------------+----------------+------------------+-----------+--------------------+----------+-----+\n",
            "|    Customer_subtype|Number_of_houses|Avg_size_household|    Avg_age|  Customer_main_type|Avg_Salary|label|\n",
            "+--------------------+----------------+------------------+-----------+--------------------+----------+-----+\n",
            "| High status seniors|               1|                 3|40-50 years|Successful hedonists|   4670288|    0|\n",
            "| High status seniors|               1|                 3|50-60 years|Successful hedonists|   9561873|    0|\n",
            "| High status seniors|               1|                 2|40-50 years|Successful hedonists|  18687005|    0|\n",
            "| High status seniors|               1|                 2|40-50 years|Successful hedonists|  24139960|    0|\n",
            "| High status seniors|               1|                 2|50-60 years|Successful hedonists|   6718606|    0|\n",
            "|High Income, expe...|               1|                 3|40-50 years|Successful hedonists|  19347139|    0|\n",
            "|High Income, expe...|               1|                 3|40-50 years|Successful hedonists|   5243902|    0|\n",
            "| High status seniors|               2|                 3|40-50 years|Successful hedonists|   6138618|    0|\n",
            "|High Income, expe...|               1|                 3|50-60 years|Successful hedonists|  24930053|    0|\n",
            "| High status seniors|               1|                 2|50-60 years|Successful hedonists|  12545905|    1|\n",
            "|High Income, expe...|               1|                 3|40-50 years|Successful hedonists|  29976435|    0|\n",
            "| High status seniors|               1|                 2|50-60 years|Successful hedonists|  24639614|    0|\n",
            "| High status seniors|               1|                 2|40-50 years|Successful hedonists|  16073966|    0|\n",
            "|High Income, expe...|               1|                 4|40-50 years|Successful hedonists|  35032441|    1|\n",
            "|High Income, expe...|               1|                 2|50-60 years|Successful hedonists|   8354410|    0|\n",
            "| High status seniors|               1|                 1|60-70 years|Successful hedonists|  20241068|    0|\n",
            "| High status seniors|               1|                 1|50-60 years|Successful hedonists|  45592572|    0|\n",
            "| High status seniors|               1|                 2|50-60 years|Successful hedonists|  10289449|    0|\n",
            "|High Income, expe...|               1|                 2|50-60 years|Successful hedonists|   5586401|    0|\n",
            "| High status seniors|               1|                 2|50-60 years|Successful hedonists|  41699271|    0|\n",
            "+--------------------+----------------+------------------+-----------+--------------------+----------+-----+\n",
            "only showing top 20 rows\n",
            "\n"
          ],
          "name": "stdout"
        }
      ]
    },
    {
      "cell_type": "markdown",
      "metadata": {
        "id": "5YnDqrWkzBZq"
      },
      "source": [
        "Filter with more than one conditions"
      ]
    },
    {
      "cell_type": "code",
      "metadata": {
        "id": "YO5R9tvpyvj8",
        "outputId": "83ecab32-d710-47ac-ab79-782c93b92e27",
        "colab": {
          "base_uri": "https://localhost:8080/",
          "height": 170
        }
      },
      "source": [
        "# filter with two conditions\n",
        "df.filter(df['Avg_Salary'] > 500000).filter(df['Number_of_houses'] > 2).show()"
      ],
      "execution_count": 17,
      "outputs": [
        {
          "output_type": "stream",
          "text": [
            "+--------------------+----------------+------------------+-----------+--------------------+----------+-----+\n",
            "|    Customer_subtype|Number_of_houses|Avg_size_household|    Avg_age|  Customer_main_type|Avg_Salary|label|\n",
            "+--------------------+----------------+------------------+-----------+--------------------+----------+-----+\n",
            "|Affluent senior a...|               3|                 2|50-60 years|Successful hedonists|    596723|    0|\n",
            "|Affluent senior a...|               3|                 2|50-60 years|Successful hedonists|    944444|    0|\n",
            "|Affluent senior a...|               3|                 2|50-60 years|Successful hedonists|    788477|    0|\n",
            "|Affluent senior a...|               3|                 2|50-60 years|Successful hedonists|    994077|    0|\n",
            "+--------------------+----------------+------------------+-----------+--------------------+----------+-----+\n",
            "\n"
          ],
          "name": "stdout"
        }
      ]
    },
    {
      "cell_type": "markdown",
      "metadata": {
        "id": "mD27OQ9CzoQZ"
      },
      "source": [
        "Where"
      ]
    },
    {
      "cell_type": "code",
      "metadata": {
        "id": "oyvwiYQrzj5E",
        "outputId": "edc6fe92-ec13-4580-cf9d-173d42da18f5",
        "colab": {
          "base_uri": "https://localhost:8080/",
          "height": 170
        }
      },
      "source": [
        "df.where((df['Avg_Salary'] > 500000) & (df['Number_of_houses'] > 2)).show()"
      ],
      "execution_count": 19,
      "outputs": [
        {
          "output_type": "stream",
          "text": [
            "+--------------------+----------------+------------------+-----------+--------------------+----------+-----+\n",
            "|    Customer_subtype|Number_of_houses|Avg_size_household|    Avg_age|  Customer_main_type|Avg_Salary|label|\n",
            "+--------------------+----------------+------------------+-----------+--------------------+----------+-----+\n",
            "|Affluent senior a...|               3|                 2|50-60 years|Successful hedonists|    596723|    0|\n",
            "|Affluent senior a...|               3|                 2|50-60 years|Successful hedonists|    944444|    0|\n",
            "|Affluent senior a...|               3|                 2|50-60 years|Successful hedonists|    788477|    0|\n",
            "|Affluent senior a...|               3|                 2|50-60 years|Successful hedonists|    994077|    0|\n",
            "+--------------------+----------------+------------------+-----------+--------------------+----------+-----+\n",
            "\n"
          ],
          "name": "stdout"
        }
      ]
    },
    {
      "cell_type": "markdown",
      "metadata": {
        "id": "iilvts9o0fSU"
      },
      "source": [
        "Aggregation"
      ]
    },
    {
      "cell_type": "code",
      "metadata": {
        "id": "7U9eYAO90hi2",
        "outputId": "c209426a-fb3d-46e5-bc11-a53927b868f7",
        "colab": {
          "base_uri": "https://localhost:8080/",
          "height": 459
        }
      },
      "source": [
        "df.groupBy('Customer_subtype').count().show()"
      ],
      "execution_count": 20,
      "outputs": [
        {
          "output_type": "stream",
          "text": [
            "+--------------------+-----+\n",
            "|    Customer_subtype|count|\n",
            "+--------------------+-----+\n",
            "|Large family, emp...|   56|\n",
            "|Religious elderly...|   47|\n",
            "|Large religious f...|  107|\n",
            "|Modern, complete ...|   93|\n",
            "|    Village families|   68|\n",
            "|Young all america...|   62|\n",
            "|Young urban have-...|    4|\n",
            "|Young seniors in ...|   22|\n",
            "|Fresh masters in ...|    2|\n",
            "|High Income, expe...|   52|\n",
            "|Lower class large...|  288|\n",
            "| Residential elderly|    6|\n",
            "|Senior cosmopolitans|    1|\n",
            "|        Mixed rurals|   67|\n",
            "|Career and childcare|   33|\n",
            "|Low income catholics|   72|\n",
            "|Mixed apartment d...|   34|\n",
            "|Seniors in apartm...|   17|\n",
            "|Middle class fami...|  122|\n",
            "|Traditional families|  129|\n",
            "+--------------------+-----+\n",
            "only showing top 20 rows\n",
            "\n"
          ],
          "name": "stdout"
        }
      ]
    },
    {
      "cell_type": "code",
      "metadata": {
        "id": "YNxxt9YS05fA",
        "outputId": "911b988b-ec92-4806-d406-074748582ebc",
        "colab": {
          "base_uri": "https://localhost:8080/",
          "height": 1000
        }
      },
      "source": [
        "for col in df.columns:\n",
        "  if col != 'Avg_Salary':\n",
        "    print(f\"Aggrgation for {col}\")\n",
        "    df.groupBy(col).count().orderBy('count', ascending=False).show(truncate=False)"
      ],
      "execution_count": 22,
      "outputs": [
        {
          "output_type": "stream",
          "text": [
            "Aggrgation for Customer_subtype\n",
            "+------------------------------------------+-----+\n",
            "|Customer_subtype                          |count|\n",
            "+------------------------------------------+-----+\n",
            "|Lower class large families                |288  |\n",
            "|Traditional families                      |129  |\n",
            "|Middle class families                     |122  |\n",
            "|Large religious families                  |107  |\n",
            "|Modern, complete families                 |93   |\n",
            "|Couples with teens 'Married with children'|83   |\n",
            "|Young and rising                          |78   |\n",
            "|High status seniors                       |76   |\n",
            "|Low income catholics                      |72   |\n",
            "|Mixed seniors                             |71   |\n",
            "|Village families                          |68   |\n",
            "|Mixed rurals                              |67   |\n",
            "|Stable family                             |62   |\n",
            "|Young all american family                 |62   |\n",
            "|Young, low educated                       |56   |\n",
            "|Large family, employed child              |56   |\n",
            "|Family starters                           |55   |\n",
            "|High Income, expensive child              |52   |\n",
            "|Mixed small town dwellers                 |47   |\n",
            "|Religious elderly singles                 |47   |\n",
            "+------------------------------------------+-----+\n",
            "only showing top 20 rows\n",
            "\n",
            "Aggrgation for Number_of_houses\n",
            "+----------------+-----+\n",
            "|Number_of_houses|count|\n",
            "+----------------+-----+\n",
            "|1               |1808 |\n",
            "|2               |178  |\n",
            "|3               |12   |\n",
            "|5               |1    |\n",
            "|10              |1    |\n",
            "+----------------+-----+\n",
            "\n",
            "Aggrgation for Avg_size_household\n",
            "+------------------+-----+\n",
            "|Avg_size_household|count|\n",
            "+------------------+-----+\n",
            "|3                 |900  |\n",
            "|2                 |730  |\n",
            "|4                 |255  |\n",
            "|1                 |94   |\n",
            "|5                 |21   |\n",
            "+------------------+-----+\n",
            "\n",
            "Aggrgation for Avg_age\n",
            "+-----------+-----+\n",
            "|Avg_age    |count|\n",
            "+-----------+-----+\n",
            "|40-50 years|1028 |\n",
            "|30-40 years|496  |\n",
            "|50-60 years|373  |\n",
            "|60-70 years|64   |\n",
            "|20-30 years|31   |\n",
            "|70-80 years|8    |\n",
            "+-----------+-----+\n",
            "\n",
            "Aggrgation for Customer_main_type\n",
            "+---------------------+-----+\n",
            "|Customer_main_type   |count|\n",
            "+---------------------+-----+\n",
            "|Family with grown ups|542  |\n",
            "|Average Family       |308  |\n",
            "|Conservative families|236  |\n",
            "|Retired and Religious|202  |\n",
            "|Successful hedonists |194  |\n",
            "|Living well          |178  |\n",
            "|Driven Growers       |172  |\n",
            "|Farmers              |93   |\n",
            "|Cruising Seniors     |60   |\n",
            "|Career Loners        |15   |\n",
            "+---------------------+-----+\n",
            "\n",
            "Aggrgation for label\n",
            "+-----+-----+\n",
            "|label|count|\n",
            "+-----+-----+\n",
            "|0    |1879 |\n",
            "|1    |121  |\n",
            "+-----+-----+\n",
            "\n"
          ],
          "name": "stdout"
        }
      ]
    }
  ]
}