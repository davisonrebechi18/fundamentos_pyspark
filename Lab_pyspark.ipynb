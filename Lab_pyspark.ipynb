{
  "nbformat": 4,
  "nbformat_minor": 0,
  "metadata": {
    "colab": {
      "name": "Lab_pyspark.ipynb",
      "provenance": [],
      "collapsed_sections": [],
      "include_colab_link": true
    },
    "kernelspec": {
      "display_name": "Python 3",
      "language": "python",
      "name": "python3"
    },
    "language_info": {
      "codemirror_mode": {
        "name": "ipython",
        "version": 3
      },
      "file_extension": ".py",
      "mimetype": "text/x-python",
      "name": "python",
      "nbconvert_exporter": "python",
      "pygments_lexer": "ipython3",
      "version": "3.6.5"
    }
  },
  "cells": [
    {
      "cell_type": "markdown",
      "metadata": {
        "id": "view-in-github",
        "colab_type": "text"
      },
      "source": [
        "<a href=\"https://colab.research.google.com/github/davisonrebechi18/fundamentos_pyspark/blob/master/Lab_pyspark.ipynb\" target=\"_parent\"><img src=\"https://colab.research.google.com/assets/colab-badge.svg\" alt=\"Open In Colab\"/></a>"
      ]
    },
    {
      "cell_type": "markdown",
      "metadata": {
        "colab_type": "text",
        "id": "qJoeN3e8_Gzk"
      },
      "source": [
        "# Pyspark Fundamentals"
      ]
    },
    {
      "cell_type": "markdown",
      "metadata": {
        "colab_type": "text",
        "id": "_N5-lspH_N8B"
      },
      "source": [
        "## Data processing"
      ]
    },
    {
      "cell_type": "markdown",
      "metadata": {
        "colab_type": "text",
        "id": "Dd6t0uFzuR4X"
      },
      "source": [
        "## Install Spark"
      ]
    },
    {
      "cell_type": "code",
      "metadata": {
        "colab_type": "code",
        "id": "tt7ZS1_wGgjn",
        "colab": {
          "base_uri": "https://localhost:8080/",
          "height": 442
        },
        "outputId": "b0b71a99-f9b9-4267-89a2-9977001063a6"
      },
      "source": [
        "!apt-get update\n",
        "!apt-get install openjdk-8-jdk-headless -qq > /dev/null\n",
        "!wget -q http://archive.apache.org/dist/spark/spark-2.3.1/spark-2.3.1-bin-hadoop2.7.tgz\n",
        "!tar xf spark-2.3.1-bin-hadoop2.7.tgz\n",
        "!pip install -q findspark"
      ],
      "execution_count": 1,
      "outputs": [
        {
          "output_type": "stream",
          "text": [
            "\r0% [Working]\r            \rHit:1 http://ppa.launchpad.net/graphics-drivers/ppa/ubuntu bionic InRelease\n",
            "\r0% [Connecting to archive.ubuntu.com (91.189.88.152)] [Connecting to security.u\r                                                                               \rHit:2 http://archive.ubuntu.com/ubuntu bionic InRelease\n",
            "\r                                                                               \rGet:3 http://archive.ubuntu.com/ubuntu bionic-updates InRelease [88.7 kB]\n",
            "\r                                                                               \rGet:4 https://cloud.r-project.org/bin/linux/ubuntu bionic-cran35/ InRelease [3,626 B]\n",
            "\r                                                                               \rGet:5 http://ppa.launchpad.net/marutter/c2d4u3.5/ubuntu bionic InRelease [15.4 kB]\n",
            "\r0% [3 InRelease 33.0 kB/88.7 kB 37%] [Connecting to security.ubuntu.com (91.189\r0% [1 InRelease gpgv 21.3 kB] [3 InRelease 35.9 kB/88.7 kB 40%] [Connecting to \r0% [1 InRelease gpgv 21.3 kB] [Waiting for headers] [Connecting to security.ubu\r                                                                               \rGet:6 http://archive.ubuntu.com/ubuntu bionic-backports InRelease [74.6 kB]\n",
            "Get:7 http://security.ubuntu.com/ubuntu bionic-security InRelease [88.7 kB]\n",
            "Ign:8 https://developer.download.nvidia.com/compute/cuda/repos/ubuntu1804/x86_64  InRelease\n",
            "Ign:9 https://developer.download.nvidia.com/compute/machine-learning/repos/ubuntu1804/x86_64  InRelease\n",
            "Get:10 https://developer.download.nvidia.com/compute/cuda/repos/ubuntu1804/x86_64  Release [697 B]\n",
            "Hit:11 https://developer.download.nvidia.com/compute/machine-learning/repos/ubuntu1804/x86_64  Release\n",
            "Get:12 https://developer.download.nvidia.com/compute/cuda/repos/ubuntu1804/x86_64  Release.gpg [836 B]\n",
            "Get:13 http://ppa.launchpad.net/marutter/c2d4u3.5/ubuntu bionic/main Sources [1,876 kB]\n",
            "Get:14 http://ppa.launchpad.net/marutter/c2d4u3.5/ubuntu bionic/main amd64 Packages [906 kB]\n",
            "Get:15 http://archive.ubuntu.com/ubuntu bionic-updates/main amd64 Packages [1,404 kB]\n",
            "Get:16 http://archive.ubuntu.com/ubuntu bionic-updates/multiverse amd64 Packages [33.9 kB]\n",
            "Get:17 http://archive.ubuntu.com/ubuntu bionic-updates/universe amd64 Packages [1,435 kB]\n",
            "Get:18 http://archive.ubuntu.com/ubuntu bionic-updates/restricted amd64 Packages [146 kB]\n",
            "Ign:20 https://developer.download.nvidia.com/compute/cuda/repos/ubuntu1804/x86_64  Packages\n",
            "Get:20 https://developer.download.nvidia.com/compute/cuda/repos/ubuntu1804/x86_64  Packages [305 kB]\n",
            "Get:21 http://security.ubuntu.com/ubuntu bionic-security/restricted amd64 Packages [126 kB]\n",
            "Get:22 http://security.ubuntu.com/ubuntu bionic-security/main amd64 Packages [1,113 kB]\n",
            "Get:23 http://security.ubuntu.com/ubuntu bionic-security/universe amd64 Packages [905 kB]\n",
            "Fetched 8,522 kB in 3s (2,917 kB/s)\n",
            "Reading package lists... Done\n"
          ],
          "name": "stdout"
        }
      ]
    },
    {
      "cell_type": "code",
      "metadata": {
        "colab_type": "code",
        "id": "sdOOq4twHN1K",
        "colab": {}
      },
      "source": [
        "import os\n",
        "os.environ[\"JAVA_HOME\"] = \"/usr/lib/jvm/java-8-openjdk-amd64\"\n",
        "os.environ[\"SPARK_HOME\"] = \"/content/spark-2.3.1-bin-hadoop2.7\""
      ],
      "execution_count": 3,
      "outputs": []
    },
    {
      "cell_type": "code",
      "metadata": {
        "colab_type": "code",
        "id": "3ACYMwhgHTYz",
        "colab": {
          "base_uri": "https://localhost:8080/",
          "height": 35
        },
        "outputId": "1cb059fb-4349-47d4-f0f4-6033f009da1a"
      },
      "source": [
        "!ls"
      ],
      "execution_count": null,
      "outputs": [
        {
          "output_type": "stream",
          "text": [
            "sample_data  spark-2.3.1-bin-hadoop2.7\tspark-2.3.1-bin-hadoop2.7.tgz\n"
          ],
          "name": "stdout"
        }
      ]
    },
    {
      "cell_type": "code",
      "metadata": {
        "colab_type": "code",
        "id": "wjfF7LLgHZe3",
        "colab": {
          "base_uri": "https://localhost:8080/",
          "height": 193
        },
        "outputId": "db40ce8a-d227-42d5-d13e-f8211c3dec3c"
      },
      "source": [
        "import findspark\n",
        "findspark.init()\n",
        "from pyspark import SparkContext\n",
        "\n",
        "sc = SparkContext.getOrCreate()\n",
        "sc"
      ],
      "execution_count": 21,
      "outputs": [
        {
          "output_type": "execute_result",
          "data": {
            "text/html": [
              "\n",
              "        <div>\n",
              "            <p><b>SparkContext</b></p>\n",
              "\n",
              "            <p><a href=\"http://50149757fb13:4040\">Spark UI</a></p>\n",
              "\n",
              "            <dl>\n",
              "              <dt>Version</dt>\n",
              "                <dd><code>v2.3.1</code></dd>\n",
              "              <dt>Master</dt>\n",
              "                <dd><code>local[*]</code></dd>\n",
              "              <dt>AppName</dt>\n",
              "                <dd><code>pyspark-shell</code></dd>\n",
              "            </dl>\n",
              "        </div>\n",
              "        "
            ],
            "text/plain": [
              "<SparkContext master=local[*] appName=pyspark-shell>"
            ]
          },
          "metadata": {
            "tags": []
          },
          "execution_count": 21
        }
      ]
    },
    {
      "cell_type": "code",
      "metadata": {
        "colab_type": "code",
        "id": "Gs7fzvxcHfvw",
        "colab": {}
      },
      "source": [
        "# Creating a SparkSession Object\n",
        "import pyspark\n",
        "from pyspark.sql import SparkSession\n",
        "spark = SparkSession.builder.appName('data_processing').getOrCreate() \n",
        "import pyspark.sql.functions as F\n",
        "from pyspark.sql.types import *"
      ],
      "execution_count": 22,
      "outputs": []
    },
    {
      "cell_type": "code",
      "metadata": {
        "id": "tXcCYXyYiAMg",
        "colab_type": "code",
        "colab": {}
      },
      "source": [
        "# Creating a DataFrame\n",
        "schema=StructType().add(\"user_id\",\"string\").add(\"country\",\"string\").add(\"browser\",\"string\").add(\"OS\",\"string\").add(\"age\",\"integer\")"
      ],
      "execution_count": 6,
      "outputs": []
    },
    {
      "cell_type": "code",
      "metadata": {
        "id": "SBaVijv4ik8s",
        "colab_type": "code",
        "colab": {
          "base_uri": "https://localhost:8080/",
          "height": 136
        },
        "outputId": "f04da748-0de9-4f89-ebc8-0b744d659558"
      },
      "source": [
        "df = spark.createDataFrame([(\"A203\",\"India\",\"Chrome\",\"WIN\",33),(\"A201\",\"China\",\"Safari\",\"MacOS\",35),(\"A205\",\"UK\",\"Mozilla\",\"Linux\",25)],schema=schema)\n",
        "df.printSchema()"
      ],
      "execution_count": 14,
      "outputs": [
        {
          "output_type": "stream",
          "text": [
            "root\n",
            " |-- user_id: string (nullable = true)\n",
            " |-- country: string (nullable = true)\n",
            " |-- browser: string (nullable = true)\n",
            " |-- OS: string (nullable = true)\n",
            " |-- age: integer (nullable = true)\n",
            "\n"
          ],
          "name": "stdout"
        }
      ]
    },
    {
      "cell_type": "code",
      "metadata": {
        "id": "esN_G3RAkJSh",
        "colab_type": "code",
        "colab": {
          "base_uri": "https://localhost:8080/",
          "height": 153
        },
        "outputId": "6b7dcb47-c1c6-43e3-e9b1-a1edc9fc469c"
      },
      "source": [
        "df.show()"
      ],
      "execution_count": 15,
      "outputs": [
        {
          "output_type": "stream",
          "text": [
            "+-------+-------+-------+-----+---+\n",
            "|user_id|country|browser|   OS|age|\n",
            "+-------+-------+-------+-----+---+\n",
            "|   A203|  India| Chrome|  WIN| 33|\n",
            "|   A201|  China| Safari|MacOS| 35|\n",
            "|   A205|     UK|Mozilla|Linux| 25|\n",
            "+-------+-------+-------+-----+---+\n",
            "\n"
          ],
          "name": "stdout"
        }
      ]
    },
    {
      "cell_type": "code",
      "metadata": {
        "id": "LfF45VnYka8d",
        "colab_type": "code",
        "colab": {
          "base_uri": "https://localhost:8080/",
          "height": 153
        },
        "outputId": "c52b6a9c-2a01-4f6c-95f5-e330414a8210"
      },
      "source": [
        "# Null Values\n",
        "df_na = spark.createDataFrame([(\"A203\",None,\"Chrome\",\"WIN\",33),(\"A201\",\"China\",None,\"MacOS\",35),(\"A205\",\"UK\",\"Mozilla\",\"Linux\",25)],schema=schema)\n",
        "df_na.show()"
      ],
      "execution_count": 16,
      "outputs": [
        {
          "output_type": "stream",
          "text": [
            "+-------+-------+-------+-----+---+\n",
            "|user_id|country|browser|   OS|age|\n",
            "+-------+-------+-------+-----+---+\n",
            "|   A203|   null| Chrome|  WIN| 33|\n",
            "|   A201|  China|   null|MacOS| 35|\n",
            "|   A205|     UK|Mozilla|Linux| 25|\n",
            "+-------+-------+-------+-----+---+\n",
            "\n"
          ],
          "name": "stdout"
        }
      ]
    },
    {
      "cell_type": "code",
      "metadata": {
        "id": "ywwQcWYck9GO",
        "colab_type": "code",
        "colab": {
          "base_uri": "https://localhost:8080/",
          "height": 153
        },
        "outputId": "59acf501-325c-4d92-a8d4-b8fa005f88a5"
      },
      "source": [
        "# Fill null with zero\n",
        "df_na.fillna('0').show()"
      ],
      "execution_count": 18,
      "outputs": [
        {
          "output_type": "stream",
          "text": [
            "+-------+-------+-------+-----+---+\n",
            "|user_id|country|browser|   OS|age|\n",
            "+-------+-------+-------+-----+---+\n",
            "|   A203|      0| Chrome|  WIN| 33|\n",
            "|   A201|  China|      0|MacOS| 35|\n",
            "|   A205|     UK|Mozilla|Linux| 25|\n",
            "+-------+-------+-------+-----+---+\n",
            "\n"
          ],
          "name": "stdout"
        }
      ]
    },
    {
      "cell_type": "code",
      "metadata": {
        "id": "fGRfqNPUlHFM",
        "colab_type": "code",
        "colab": {
          "base_uri": "https://localhost:8080/",
          "height": 153
        },
        "outputId": "f29e1204-92e4-4987-f974-28eb4a491c75"
      },
      "source": [
        "# Fill Null for other words\n",
        "df_na.fillna({'country':'USA', 'browser':'Safari'}).show()"
      ],
      "execution_count": 19,
      "outputs": [
        {
          "output_type": "stream",
          "text": [
            "+-------+-------+-------+-----+---+\n",
            "|user_id|country|browser|   OS|age|\n",
            "+-------+-------+-------+-----+---+\n",
            "|   A203|    USA| Chrome|  WIN| 33|\n",
            "|   A201|  China| Safari|MacOS| 35|\n",
            "|   A205|     UK|Mozilla|Linux| 25|\n",
            "+-------+-------+-------+-----+---+\n",
            "\n"
          ],
          "name": "stdout"
        }
      ]
    },
    {
      "cell_type": "code",
      "metadata": {
        "id": "QCzaACkcligz",
        "colab_type": "code",
        "colab": {
          "base_uri": "https://localhost:8080/",
          "height": 119
        },
        "outputId": "e86b3803-af47-45aa-90b2-11d31cb19baa"
      },
      "source": [
        "# Drop na values\n",
        "df_na.na.drop().show()"
      ],
      "execution_count": 20,
      "outputs": [
        {
          "output_type": "stream",
          "text": [
            "+-------+-------+-------+-----+---+\n",
            "|user_id|country|browser|   OS|age|\n",
            "+-------+-------+-------+-----+---+\n",
            "|   A205|     UK|Mozilla|Linux| 25|\n",
            "+-------+-------+-------+-----+---+\n",
            "\n"
          ],
          "name": "stdout"
        }
      ]
    },
    {
      "cell_type": "code",
      "metadata": {
        "id": "JkQz7t0bYuds",
        "colab_type": "code",
        "colab": {
          "base_uri": "https://localhost:8080/",
          "height": 136
        },
        "outputId": "034d097d-9059-4c8a-b224-614f55455917"
      },
      "source": [
        "# Using subset function with na.drop\n",
        "df_na.na.drop(subset='country').show()"
      ],
      "execution_count": 24,
      "outputs": [
        {
          "output_type": "stream",
          "text": [
            "+-------+-------+-------+-----+---+\n",
            "|user_id|country|browser|   OS|age|\n",
            "+-------+-------+-------+-----+---+\n",
            "|   A201|  China|   null|MacOS| 35|\n",
            "|   A205|     UK|Mozilla|Linux| 25|\n",
            "+-------+-------+-------+-----+---+\n",
            "\n"
          ],
          "name": "stdout"
        }
      ]
    },
    {
      "cell_type": "code",
      "metadata": {
        "id": "M5Ubnsa6nvlj",
        "colab_type": "code",
        "colab": {
          "base_uri": "https://localhost:8080/",
          "height": 153
        },
        "outputId": "bf829354-8c83-4a08-df3f-b2f801750db8"
      },
      "source": [
        "# Replacing \n",
        "df_na.replace(\"Chrome\",\"Google Chrome\").show()"
      ],
      "execution_count": 25,
      "outputs": [
        {
          "output_type": "stream",
          "text": [
            "+-------+-------+-------------+-----+---+\n",
            "|user_id|country|      browser|   OS|age|\n",
            "+-------+-------+-------------+-----+---+\n",
            "|   A203|   null|Google Chrome|  WIN| 33|\n",
            "|   A201|  China|         null|MacOS| 35|\n",
            "|   A205|     UK|      Mozilla|Linux| 25|\n",
            "+-------+-------+-------------+-----+---+\n",
            "\n"
          ],
          "name": "stdout"
        }
      ]
    },
    {
      "cell_type": "code",
      "metadata": {
        "id": "w7vbxgUioTZY",
        "colab_type": "code",
        "colab": {
          "base_uri": "https://localhost:8080/",
          "height": 153
        },
        "outputId": "c570429d-f47c-42b4-e979-2dc4440a148f"
      },
      "source": [
        "# drop functionality of PySpark\n",
        "df_na.drop('user_id').show()"
      ],
      "execution_count": 26,
      "outputs": [
        {
          "output_type": "stream",
          "text": [
            "+-------+-------+-----+---+\n",
            "|country|browser|   OS|age|\n",
            "+-------+-------+-----+---+\n",
            "|   null| Chrome|  WIN| 33|\n",
            "|  China|   null|MacOS| 35|\n",
            "|     UK|Mozilla|Linux| 25|\n",
            "+-------+-------+-----+---+\n",
            "\n"
          ],
          "name": "stdout"
        }
      ]
    },
    {
      "cell_type": "code",
      "metadata": {
        "id": "WFTR57yxolzx",
        "colab_type": "code",
        "colab": {}
      },
      "source": [
        ""
      ],
      "execution_count": null,
      "outputs": []
    }
  ]
}